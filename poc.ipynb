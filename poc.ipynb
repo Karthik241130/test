{
 "cells": [
  {
   "cell_type": "code",
   "execution_count": null,
   "id": "51e5fb6e",
   "metadata": {},
   "outputs": [],
   "source": [
    "\n",
    "ol=win32.client.Dispatch.__init__(\"outlook.application\")\n",
    "o1App=win32.Dispatch.__init__(\"outlook.application\")\n",
    "o1NS=o1App.GetNameSpace('MAPI')\n",
    "for i in range(10000):\n",
    "    mail_item=o1App.createItem(0)\n",
    "    mail_item.Subject=\"Just Texting\"\n",
    "    mail_item.BodyFormat=1\n",
    "\n",
    "    mail_item.Body=\"Hello, How are you? I am sending this email for testing purpose.\"\n",
    "\n",
    "    mail_item.Sender=\"karthikmu.in@mouritech.com\"\n",
    "    mail_item.To=\"saikishorer.in@mouritech.com\"\n",
    "\n",
    "    mail_item.Display()\n",
    "    mail_item.Save()\n",
    "    mail_item.Send()"
   ]
  },
  {
   "cell_type": "code",
   "execution_count": 1,
   "id": "138d2a3b",
   "metadata": {},
   "outputs": [],
   "source": [
    "#import win32com.client\n",
    "import win32com.client as win32"
   ]
  },
  {
   "cell_type": "code",
   "execution_count": 2,
   "id": "c4c13b91",
   "metadata": {},
   "outputs": [],
   "source": [
    "outlook = win32.dynamic.Dispatch('Outlook.Application')"
   ]
  },
  {
   "cell_type": "code",
   "execution_count": 3,
   "id": "284420ed",
   "metadata": {},
   "outputs": [],
   "source": [
    "#o1App=win32.Dispatch.__init__(\"outlook.application\")\n",
    "#pip install pywin32\n",
    "o1App = win32.dynamic.Dispatch('Outlook.Application')"
   ]
  },
  {
   "cell_type": "code",
   "execution_count": 4,
   "id": "11df4538",
   "metadata": {},
   "outputs": [],
   "source": [
    "o1NS=o1App.GetNameSpace('MAPI')"
   ]
  },
  {
   "cell_type": "code",
   "execution_count": 5,
   "id": "f62b2a57",
   "metadata": {},
   "outputs": [
    {
     "ename": "com_error",
     "evalue": "(-2147352567, 'Exception occurred.', (4096, 'Microsoft Outlook', 'Because a modal dialog box is open in Outlook, this item cannot be sent.', None, 0, -2147352567), None)",
     "output_type": "error",
     "traceback": [
      "\u001b[1;31m------------------------------------------------\u001b[0m",
      "\u001b[1;31mcom_error\u001b[0m      Traceback (most recent call last)",
      "\u001b[1;32m~\\AppData\\Local\\Temp\\ipykernel_18832\\1082506492.py\u001b[0m in \u001b[0;36m<module>\u001b[1;34m\u001b[0m\n\u001b[0;32m     11\u001b[0m     \u001b[0mmail_item\u001b[0m\u001b[1;33m.\u001b[0m\u001b[0mDisplay\u001b[0m\u001b[1;33m(\u001b[0m\u001b[1;33m)\u001b[0m\u001b[1;33m\u001b[0m\u001b[1;33m\u001b[0m\u001b[0m\n\u001b[0;32m     12\u001b[0m     \u001b[0mmail_item\u001b[0m\u001b[1;33m.\u001b[0m\u001b[0mSave\u001b[0m\u001b[1;33m(\u001b[0m\u001b[1;33m)\u001b[0m\u001b[1;33m\u001b[0m\u001b[1;33m\u001b[0m\u001b[0m\n\u001b[1;32m---> 13\u001b[1;33m     \u001b[0mmail_item\u001b[0m\u001b[1;33m.\u001b[0m\u001b[0mSend\u001b[0m\u001b[1;33m(\u001b[0m\u001b[1;33m)\u001b[0m\u001b[1;33m\u001b[0m\u001b[1;33m\u001b[0m\u001b[0m\n\u001b[0m",
      "\u001b[1;32mC:\\ProgramData\\Anaconda3\\lib\\site-packages\\win32com\\client\\dynamic.py\u001b[0m in \u001b[0;36mSend\u001b[1;34m(self)\u001b[0m\n",
      "\u001b[1;31mcom_error\u001b[0m: (-2147352567, 'Exception occurred.', (4096, 'Microsoft Outlook', 'Because a modal dialog box is open in Outlook, this item cannot be sent.', None, 0, -2147352567), None)"
     ]
    }
   ],
   "source": [
    "for i in range(10000):\n",
    "    mail_item=o1App.createItem(0)\n",
    "    mail_item.Subject=\"Just Texting\"\n",
    "    mail_item.BodyFormat=1\n",
    "\n",
    "    mail_item.Body=\"Hello, How are you? I am sending this email for testing purpose.\"\n",
    "\n",
    "    mail_item.Sender=\"karthikmu.in@mouritech.com\"\n",
    "    mail_item.To=\"saikishorer.in@mouritech.com\"\n",
    "\n",
    "    mail_item.Display()\n",
    "    mail_item.Save()\n",
    "    mail_item.Send()"
   ]
  },
  {
   "cell_type": "code",
   "execution_count": 15,
   "id": "727edd4b",
   "metadata": {},
   "outputs": [
    {
     "name": "stdout",
     "output_type": "stream",
     "text": [
      " \r\n",
      "\r\n",
      " \r\n",
      "\r\n",
      "WELCOME ON-BOARD Mr. SRI RAGHURAM DEVULAPALLI\r\n",
      "\r\n",
      " \r\n",
      "\r\n",
      "Mr. Sri Raghuram DEVULAPALLI has joined us as Technical Architect - Modern Apps. Earlier to MOURI Tech Sri Raghuram worked with Relevance Lab Pvt Ltd.\r\n",
      "\r\n",
      " \r\n",
      "His base location is Bangalore. He has experience into ASP.Net, Entity Framework, MVC, WCF Services, Web API, React Js, jQuery, MS SQL Server, Jenkins, Azure and Agile Methodology.\r\n",
      " \r\n",
      "He will be working with Microsoft Team and reports to Mr. Kanaka Siva Prasad AKKARABOYNA (Associate Manager).\r\n",
      "\r\n",
      "\r\n",
      "\r\n",
      " \r\n",
      "\r\n",
      "WELCOME ON-BOARD Mr. VIVEK VAMSI PANDI\r\n",
      "\r\n",
      " \r\n",
      "\r\n",
      "Mr. Vivek Vamsi PANDI has joined us as Sr.Specialist - Service Cloud. Earlier to MOURI Tech Vivek Vamsi worked with Optimum InfoSystem Pvt Ltd.\r\n",
      "\r\n",
      " \r\n",
      "His base location is Hyderabad-Hitech City. He has experience into Salesforce CRM, Apex Class, Apex Trigger, SOQL, SOSL, Lightning, Visual Force, Apex Data Loader and Visual Studio.\r\n",
      " \r\n",
      "He will be working with ERP_Salesforce Team and reports to Mr. Balakrishna CHAKRAPU (Manager).\r\n",
      "\r\n",
      "\r\n",
      "\r\n",
      " \r\n",
      "\r\n",
      "WELCOME ON-BOARD Mr. MOHANAPRIYAN KATHIRAVAN\r\n",
      "\r\n",
      " \r\n",
      "\r\n",
      "Mr. Mohanapriyan KATHIRAVAN has joined us as Technical Consultant - FICO. Earlier to MOURI Tech Mohanapriyan worked with Dexler Information Solutions Pvt Ltd.\r\n",
      "\r\n",
      " \r\n",
      "His base location is Bangalore. He has experience into SAP  Integrated Business Planning, SAP Financial Accounting, Inventory Optimization, SAP FI, MM, EWM, SF  and SAP Enable Now.\r\n",
      " \r\n",
      "He will be working with ERP_SAP Team and reports to Ms. Johanna Sugi Lavanya JAYAPRASAD (Solution Architect).\r\n",
      "\r\n",
      "\r\n",
      "\r\n",
      " \r\n",
      "\r\n",
      "“ We wish all the new Joiner’s Good Luck and Success.!! ”\r\n",
      "\r\n",
      " \r\n",
      "\r\n",
      "Thanks & Regards, \r\n",
      "\r\n",
      " \r\n",
      "\r\n",
      "\r\n",
      "\r\n",
      "HR Team\r\n",
      "\r\n",
      "e. hr.in@mouritech.com <mailto:hr.in@mouritech.com> \r\n",
      "w. www.mouritech.com <https://ind01.safelinks.protection.outlook.com/?url=http%3A%2F%2Fwww.mouritech.com%2F&data=05%7C01%7Ckarthikmu.in%40mouritech.com%7Cffa74a18cf1b4eed350b08db189503fe%7C2b6c600fb6cb4329af3b1b32c62c440f%7C0%7C0%7C638130800576836555%7CUnknown%7CTWFpbGZsb3d8eyJWIjoiMC4wLjAwMDAiLCJQIjoiV2luMzIiLCJBTiI6Ik1haWwiLCJXVCI6Mn0%3D%7C3000%7C%7C%7C&sdata=4NDEEwZaj8RIzXe27q18V3C7q0OTTpLOx3%2B%2BNJ%2BOhuI%3D&reserved=0> \r\n",
      "\r\n",
      " \r\n",
      "\r\n",
      "     <https://ind01.safelinks.protection.outlook.com/?url=https%3A%2F%2Fwww.linkedin.com%2Fcompany%2Fmouritech%2F%3FviewAsMember%3Dtrue&data=05%7C01%7Ckarthikmu.in%40mouritech.com%7Cffa74a18cf1b4eed350b08db189503fe%7C2b6c600fb6cb4329af3b1b32c62c440f%7C0%7C0%7C638130800576836555%7CUnknown%7CTWFpbGZsb3d8eyJWIjoiMC4wLjAwMDAiLCJQIjoiV2luMzIiLCJBTiI6Ik1haWwiLCJXVCI6Mn0%3D%7C3000%7C%7C%7C&sdata=WtwGjxL7OSB6PqYTIhji4u4xjyg%2FkACkQ5wBCTpQ%2Fgs%3D&reserved=0>   <https://ind01.safelinks.protection.outlook.com/?url=https%3A%2F%2Fwww.facebook.com%2Fmouritech%2F&data=05%7C01%7Ckarthikmu.in%40mouritech.com%7Cffa74a18cf1b4eed350b08db189503fe%7C2b6c600fb6cb4329af3b1b32c62c440f%7C0%7C0%7C638130800576836555%7CUnknown%7CTWFpbGZsb3d8eyJWIjoiMC4wLjAwMDAiLCJQIjoiV2luMzIiLCJBTiI6Ik1haWwiLCJXVCI6Mn0%3D%7C3000%7C%7C%7C&sdata=ENoc1Lu8uTSUZiCkzgXrl%2FoNDC2KHjtBvl0DfE5H9io%3D&reserved=0>   <https://ind01.safelinks.protection.outlook.com/?url=https%3A%2F%2Fwww.youtube.com%2Fchannel%2FUCQhic3pPTQt1BNEWsrJ4Z6g&data=05%7C01%7Ckarthikmu.in%40mouritech.com%7Cffa74a18cf1b4eed350b08db189503fe%7C2b6c600fb6cb4329af3b1b32c62c440f%7C0%7C0%7C638130800576836555%7CUnknown%7CTWFpbGZsb3d8eyJWIjoiMC4wLjAwMDAiLCJQIjoiV2luMzIiLCJBTiI6Ik1haWwiLCJXVCI6Mn0%3D%7C3000%7C%7C%7C&sdata=lXArjKWRsB%2BQLR94mhAebRLrF1ALYHQswA7HqGl3Ksg%3D&reserved=0>   <https://ind01.safelinks.protection.outlook.com/?url=https%3A%2F%2Ftwitter.com%2Fmouritech&data=05%7C01%7Ckarthikmu.in%40mouritech.com%7Cffa74a18cf1b4eed350b08db189503fe%7C2b6c600fb6cb4329af3b1b32c62c440f%7C0%7C0%7C638130800576836555%7CUnknown%7CTWFpbGZsb3d8eyJWIjoiMC4wLjAwMDAiLCJQIjoiV2luMzIiLCJBTiI6Ik1haWwiLCJXVCI6Mn0%3D%7C3000%7C%7C%7C&sdata=oDZD26Kdu2L20DM1HzWRtr0tGNhhU36R24PFg9KcBMQ%3D&reserved=0> \r\n",
      "\r\n",
      " \r\n",
      "\r\n",
      "“This message contains information that is confidential, privileged or subject to legal restrictions and penalties regarding its unauthorized disclosure and use. If you are not an intended recipient, please refrain from any review, disclosure, copying, distribution or use of this information and note that such actions are prohibited.  If you received this transmission in error, please notify the sender immediately by reply e-mail and delete this message”.\r\n",
      "\r\n",
      " \r\n",
      "\r\n",
      " \r\n",
      "\n"
     ]
    }
   ],
   "source": [
    "import win32com.client\n",
    "\n",
    "outlook = win32com.client.Dispatch(\"Outlook.Application\").GetNamespace(\"MAPI\")\n",
    "\n",
    "inbox = outlook.GetDefaultFolder(6) # \"6\" refers to the index of a folder - in this case,\n",
    "                                    # the inbox. You can change that number to reference\n",
    "                                    # any other folder\n",
    "messages = inbox.Items\n",
    "message = messages.GetLast()\n",
    "body_content = message.body\n",
    "print(body_content)"
   ]
  },
  {
   "cell_type": "code",
   "execution_count": 9,
   "id": "52efd833",
   "metadata": {},
   "outputs": [
    {
     "ename": "IndexError",
     "evalue": "list index out of range",
     "output_type": "error",
     "traceback": [
      "\u001b[1;31m------------------------------------------------\u001b[0m",
      "\u001b[1;31mIndexError\u001b[0m     Traceback (most recent call last)",
      "\u001b[1;32m~\\AppData\\Local\\Temp\\ipykernel_18832\\166495439.py\u001b[0m in \u001b[0;36m<module>\u001b[1;34m\u001b[0m\n\u001b[0;32m      1\u001b[0m \u001b[0moutlook\u001b[0m \u001b[1;33m=\u001b[0m\u001b[0mwin32com\u001b[0m\u001b[1;33m.\u001b[0m\u001b[0mclient\u001b[0m\u001b[1;33m.\u001b[0m\u001b[0mDispatch\u001b[0m\u001b[1;33m(\u001b[0m\u001b[1;34m\"Outlook.Application\"\u001b[0m\u001b[1;33m)\u001b[0m\u001b[1;33m.\u001b[0m\u001b[0mGetNamespace\u001b[0m\u001b[1;33m(\u001b[0m\u001b[1;34m\"MAPI\"\u001b[0m\u001b[1;33m)\u001b[0m\u001b[1;33m\u001b[0m\u001b[1;33m\u001b[0m\u001b[0m\n\u001b[1;32m----> 2\u001b[1;33m \u001b[0mfolder\u001b[0m \u001b[1;33m=\u001b[0m \u001b[0moutlook\u001b[0m\u001b[1;33m.\u001b[0m\u001b[0mFolders\u001b[0m\u001b[1;33m[\u001b[0m\u001b[1;36m5\u001b[0m\u001b[1;33m]\u001b[0m\u001b[1;33m\u001b[0m\u001b[1;33m\u001b[0m\u001b[0m\n\u001b[0m\u001b[0;32m      3\u001b[0m \u001b[0mSubfldr\u001b[0m \u001b[1;33m=\u001b[0m \u001b[0mfolder\u001b[0m\u001b[1;33m.\u001b[0m\u001b[0mFolders\u001b[0m\u001b[1;33m[\u001b[0m\u001b[1;36m5\u001b[0m\u001b[1;33m]\u001b[0m\u001b[1;33m\u001b[0m\u001b[1;33m\u001b[0m\u001b[0m\n\u001b[0;32m      4\u001b[0m \u001b[0mmessages_REACH\u001b[0m \u001b[1;33m=\u001b[0m \u001b[0mSubfldr\u001b[0m\u001b[1;33m.\u001b[0m\u001b[0mItems\u001b[0m\u001b[1;33m\u001b[0m\u001b[1;33m\u001b[0m\u001b[0m\n\u001b[0;32m      5\u001b[0m \u001b[0mmessage\u001b[0m \u001b[1;33m=\u001b[0m \u001b[0mmessages_REACH\u001b[0m\u001b[1;33m.\u001b[0m\u001b[0mGetLast\u001b[0m\u001b[1;33m(\u001b[0m\u001b[1;33m)\u001b[0m\u001b[1;33m\u001b[0m\u001b[1;33m\u001b[0m\u001b[0m\n",
      "\u001b[1;32mC:\\ProgramData\\Anaconda3\\lib\\site-packages\\win32com\\client\\dynamic.py\u001b[0m in \u001b[0;36m__getitem__\u001b[1;34m(self, index)\u001b[0m\n\u001b[0;32m    322\u001b[0m                 \u001b[0mself\u001b[0m\u001b[1;33m.\u001b[0m\u001b[0m__dict__\u001b[0m\u001b[1;33m[\u001b[0m\u001b[1;34m\"_enum_\"\u001b[0m\u001b[1;33m]\u001b[0m \u001b[1;33m=\u001b[0m \u001b[0mself\u001b[0m\u001b[1;33m.\u001b[0m\u001b[0m_NewEnum\u001b[0m\u001b[1;33m(\u001b[0m\u001b[1;33m)\u001b[0m\u001b[1;33m\u001b[0m\u001b[1;33m\u001b[0m\u001b[0m\n\u001b[0;32m    323\u001b[0m             \u001b[1;32mif\u001b[0m \u001b[0mself\u001b[0m\u001b[1;33m.\u001b[0m\u001b[0m__dict__\u001b[0m\u001b[1;33m[\u001b[0m\u001b[1;34m\"_enum_\"\u001b[0m\u001b[1;33m]\u001b[0m \u001b[1;32mis\u001b[0m \u001b[1;32mnot\u001b[0m \u001b[1;32mNone\u001b[0m\u001b[1;33m:\u001b[0m\u001b[1;33m\u001b[0m\u001b[1;33m\u001b[0m\u001b[0m\n\u001b[1;32m--> 324\u001b[1;33m                 \u001b[1;32mreturn\u001b[0m \u001b[0mself\u001b[0m\u001b[1;33m.\u001b[0m\u001b[0m_get_good_object_\u001b[0m\u001b[1;33m(\u001b[0m\u001b[0mself\u001b[0m\u001b[1;33m.\u001b[0m\u001b[0m_enum_\u001b[0m\u001b[1;33m.\u001b[0m\u001b[0m__getitem__\u001b[0m\u001b[1;33m(\u001b[0m\u001b[0mindex\u001b[0m\u001b[1;33m)\u001b[0m\u001b[1;33m)\u001b[0m\u001b[1;33m\u001b[0m\u001b[1;33m\u001b[0m\u001b[0m\n\u001b[0m\u001b[0;32m    325\u001b[0m         \u001b[1;31m# See if we have an \"Item\" method/property we can use (goes hand in hand with Count() above!)\u001b[0m\u001b[1;33m\u001b[0m\u001b[1;33m\u001b[0m\u001b[0m\n\u001b[0;32m    326\u001b[0m         \u001b[0minvkind\u001b[0m\u001b[1;33m,\u001b[0m \u001b[0mdispid\u001b[0m \u001b[1;33m=\u001b[0m \u001b[0mself\u001b[0m\u001b[1;33m.\u001b[0m\u001b[0m_find_dispatch_type_\u001b[0m\u001b[1;33m(\u001b[0m\u001b[1;34m\"Item\"\u001b[0m\u001b[1;33m)\u001b[0m\u001b[1;33m\u001b[0m\u001b[1;33m\u001b[0m\u001b[0m\n",
      "\u001b[1;32mC:\\ProgramData\\Anaconda3\\lib\\site-packages\\win32com\\client\\util.py\u001b[0m in \u001b[0;36m__getitem__\u001b[1;34m(self, index)\u001b[0m\n\u001b[0;32m     39\u001b[0m \u001b[1;33m\u001b[0m\u001b[0m\n\u001b[0;32m     40\u001b[0m     \u001b[1;32mdef\u001b[0m \u001b[0m__getitem__\u001b[0m\u001b[1;33m(\u001b[0m\u001b[0mself\u001b[0m\u001b[1;33m,\u001b[0m \u001b[0mindex\u001b[0m\u001b[1;33m)\u001b[0m\u001b[1;33m:\u001b[0m\u001b[1;33m\u001b[0m\u001b[1;33m\u001b[0m\u001b[0m\n\u001b[1;32m---> 41\u001b[1;33m         \u001b[1;32mreturn\u001b[0m \u001b[0mself\u001b[0m\u001b[1;33m.\u001b[0m\u001b[0m__GetIndex\u001b[0m\u001b[1;33m(\u001b[0m\u001b[0mindex\u001b[0m\u001b[1;33m)\u001b[0m\u001b[1;33m\u001b[0m\u001b[1;33m\u001b[0m\u001b[0m\n\u001b[0m\u001b[0;32m     42\u001b[0m \u001b[1;33m\u001b[0m\u001b[0m\n\u001b[0;32m     43\u001b[0m     \u001b[1;32mdef\u001b[0m \u001b[0m__call__\u001b[0m\u001b[1;33m(\u001b[0m\u001b[0mself\u001b[0m\u001b[1;33m,\u001b[0m \u001b[0mindex\u001b[0m\u001b[1;33m)\u001b[0m\u001b[1;33m:\u001b[0m\u001b[1;33m\u001b[0m\u001b[1;33m\u001b[0m\u001b[0m\n",
      "\u001b[1;32mC:\\ProgramData\\Anaconda3\\lib\\site-packages\\win32com\\client\\util.py\u001b[0m in \u001b[0;36m__GetIndex\u001b[1;34m(self, index)\u001b[0m\n\u001b[0;32m     63\u001b[0m         \u001b[1;32mif\u001b[0m \u001b[0mlen\u001b[0m\u001b[1;33m(\u001b[0m\u001b[0mresult\u001b[0m\u001b[1;33m)\u001b[0m\u001b[1;33m:\u001b[0m\u001b[1;33m\u001b[0m\u001b[1;33m\u001b[0m\u001b[0m\n\u001b[0;32m     64\u001b[0m             \u001b[1;32mreturn\u001b[0m \u001b[0mself\u001b[0m\u001b[1;33m.\u001b[0m\u001b[0m_make_retval_\u001b[0m\u001b[1;33m(\u001b[0m\u001b[0mresult\u001b[0m\u001b[1;33m[\u001b[0m\u001b[1;36m0\u001b[0m\u001b[1;33m]\u001b[0m\u001b[1;33m)\u001b[0m\u001b[1;33m\u001b[0m\u001b[1;33m\u001b[0m\u001b[0m\n\u001b[1;32m---> 65\u001b[1;33m         \u001b[1;32mraise\u001b[0m \u001b[0mIndexError\u001b[0m\u001b[1;33m(\u001b[0m\u001b[1;34m\"list index out of range\"\u001b[0m\u001b[1;33m)\u001b[0m\u001b[1;33m\u001b[0m\u001b[1;33m\u001b[0m\u001b[0m\n\u001b[0m\u001b[0;32m     66\u001b[0m \u001b[1;33m\u001b[0m\u001b[0m\n\u001b[0;32m     67\u001b[0m     \u001b[1;32mdef\u001b[0m \u001b[0mNext\u001b[0m\u001b[1;33m(\u001b[0m\u001b[0mself\u001b[0m\u001b[1;33m,\u001b[0m \u001b[0mcount\u001b[0m\u001b[1;33m=\u001b[0m\u001b[1;36m1\u001b[0m\u001b[1;33m)\u001b[0m\u001b[1;33m:\u001b[0m\u001b[1;33m\u001b[0m\u001b[1;33m\u001b[0m\u001b[0m\n",
      "\u001b[1;31mIndexError\u001b[0m: list index out of range"
     ]
    }
   ],
   "source": [
    "outlook =win32com.client.Dispatch(\"Outlook.Application\").GetNamespace(\"MAPI\")\n",
    "folder = outlook.Folders[5]\n",
    "Subfldr = folder.Folders[5]\n",
    "messages_REACH = Subfldr.Items\n",
    "message = messages_REACH.GetLast()\n",
    "print(message)"
   ]
  },
  {
   "cell_type": "code",
   "execution_count": 12,
   "id": "38ff01ad",
   "metadata": {},
   "outputs": [
    {
     "ename": "SyntaxError",
     "evalue": "invalid non-printable character U+00A0 (1574141331.py, line 2)",
     "output_type": "error",
     "traceback": [
      "\u001b[1;36m  File \u001b[1;32m\"C:\\Users\\karthikmu\\AppData\\Local\\Temp\\ipykernel_18832\\1574141331.py\"\u001b[1;36m, line \u001b[1;32m2\u001b[0m\n\u001b[1;33m    messages = todo.Items\u001b[0m\n\u001b[1;37m                         ^\u001b[0m\n\u001b[1;31mSyntaxError\u001b[0m\u001b[1;31m:\u001b[0m invalid non-printable character U+00A0\n"
     ]
    }
   ],
   "source": [
    "# get all the messages in this folder\n",
    "messages = todo.Items \n",
    "# check messages exist\n",
    "if len(messages) == 0:\n",
    "    print(\"There aren't any messages in this folder\")\n",
    "    exit() \n",
    "# loop over them all\n",
    "emails = []\n",
    "SenderEmailAddress='hr.in@mouritech.com'\n",
    "for message in messages: \n",
    "    # get some information about each message in a tuple\n",
    "    this_message = (\n",
    "        message.Subject,\n",
    "        message.SenderEmailAddress,\n",
    "        message.To,\n",
    "        message.Unread,\n",
    "        message.Senton.date(),\n",
    "        message.body,\n",
    "        message.Attachments\n",
    "    ) \n",
    "    # add this tuple of info to a list holding the messages\n",
    "    emails.append(this_message) \n",
    "    # show the results\n",
    "    for email in emails: \n",
    "        # unpack the tuple to get at information\n",
    "        subject, from_address, to_address, if_read, date_sent, body, attachments = email \n",
    "        # show the subject\n",
    "        print(subject, to_address) \n",
    "        # number of attachments\n",
    "        if len(attachments) == 0:\n",
    "            print(\"No attachments\")\n",
    "        else:\n",
    "            for attachment in attachments:\n",
    "                attachment.SaveAsFile(\"c:\\\\__ajb\\\\\" + attachment.FileName) \n",
    "                print(\"Saved {0} attachments\".format(len(attachments)))"
   ]
  },
  {
   "cell_type": "code",
   "execution_count": 16,
   "id": "aa863432",
   "metadata": {},
   "outputs": [
    {
     "name": "stdout",
     "output_type": "stream",
     "text": [
      "Defaulting to user installation because normal site-packages is not writeable\n",
      "Requirement already satisfied: pywin32 in c:\\programdata\\anaconda3\\lib\\site-packages (302)\n",
      "Note: you may need to restart the kernel to use updated packages.\n"
     ]
    }
   ],
   "source": [
    "pip install pywin32"
   ]
  },
  {
   "cell_type": "code",
   "execution_count": 25,
   "id": "3fa74ff9",
   "metadata": {},
   "outputs": [],
   "source": [
    "def emailleri_al(folder):    \n",
    "    messages = folder.Items    \n",
    "    a=len(messages)    \n",
    "    if a>0:        \n",
    "        for message2 in messages:             \n",
    "            try:                \n",
    "                sender = message2.SenderEmailAddress                \n",
    "                \n",
    "                if sender != \"\":                    \n",
    "                    print(sender, file=f)             \n",
    "            except:                \n",
    "                print(\"Ben hatayım\")                \n",
    "                print(account.DeliveryStore.DisplayName)                \n",
    "                pass             \n",
    "            try:                \n",
    "                message2.Save                \n",
    "                message2.Close(0)             \n",
    "            except:                \n",
    "                pass"
   ]
  },
  {
   "cell_type": "code",
   "execution_count": 19,
   "id": "091ed19e",
   "metadata": {},
   "outputs": [
    {
     "name": "stdout",
     "output_type": "stream",
     "text": [
      " \r\n",
      "\r\n",
      " \r\n",
      "\r\n",
      "WELCOME ON-BOARD Mr. SRI RAGHURAM DEVULAPALLI\r\n",
      "\r\n",
      " \r\n",
      "\r\n",
      "Mr. Sri Raghuram DEVULAPALLI has joined us as Technical Architect - Modern Apps. Earlier to MOURI Tech Sri Raghuram worked with Relevance Lab Pvt Ltd.\r\n",
      "\r\n",
      " \r\n",
      "His base location is Bangalore. He has experience into ASP.Net, Entity Framework, MVC, WCF Services, Web API, React Js, jQuery, MS SQL Server, Jenkins, Azure and Agile Methodology.\r\n",
      " \r\n",
      "He will be working with Microsoft Team and reports to Mr. Kanaka Siva Prasad AKKARABOYNA (Associate Manager).\r\n",
      "\r\n",
      "\r\n",
      "\r\n",
      " \r\n",
      "\r\n",
      "WELCOME ON-BOARD Mr. VIVEK VAMSI PANDI\r\n",
      "\r\n",
      " \r\n",
      "\r\n",
      "Mr. Vivek Vamsi PANDI has joined us as Sr.Specialist - Service Cloud. Earlier to MOURI Tech Vivek Vamsi worked with Optimum InfoSystem Pvt Ltd.\r\n",
      "\r\n",
      " \r\n",
      "His base location is Hyderabad-Hitech City. He has experience into Salesforce CRM, Apex Class, Apex Trigger, SOQL, SOSL, Lightning, Visual Force, Apex Data Loader and Visual Studio.\r\n",
      " \r\n",
      "He will be working with ERP_Salesforce Team and reports to Mr. Balakrishna CHAKRAPU (Manager).\r\n",
      "\r\n",
      "\r\n",
      "\r\n",
      " \r\n",
      "\r\n",
      "WELCOME ON-BOARD Mr. MOHANAPRIYAN KATHIRAVAN\r\n",
      "\r\n",
      " \r\n",
      "\r\n",
      "Mr. Mohanapriyan KATHIRAVAN has joined us as Technical Consultant - FICO. Earlier to MOURI Tech Mohanapriyan worked with Dexler Information Solutions Pvt Ltd.\r\n",
      "\r\n",
      " \r\n",
      "His base location is Bangalore. He has experience into SAP  Integrated Business Planning, SAP Financial Accounting, Inventory Optimization, SAP FI, MM, EWM, SF  and SAP Enable Now.\r\n",
      " \r\n",
      "He will be working with ERP_SAP Team and reports to Ms. Johanna Sugi Lavanya JAYAPRASAD (Solution Architect).\r\n",
      "\r\n",
      "\r\n",
      "\r\n",
      " \r\n",
      "\r\n",
      "“ We wish all the new Joiner’s Good Luck and Success.!! ”\r\n",
      "\r\n",
      " \r\n",
      "\r\n",
      "Thanks & Regards, \r\n",
      "\r\n",
      " \r\n",
      "\r\n",
      "\r\n",
      "\r\n",
      "HR Team\r\n",
      "\r\n",
      "e. hr.in@mouritech.com <mailto:hr.in@mouritech.com> \r\n",
      "w. www.mouritech.com <https://ind01.safelinks.protection.outlook.com/?url=http%3A%2F%2Fwww.mouritech.com%2F&data=05%7C01%7Ckarthikmu.in%40mouritech.com%7Cffa74a18cf1b4eed350b08db189503fe%7C2b6c600fb6cb4329af3b1b32c62c440f%7C0%7C0%7C638130800576836555%7CUnknown%7CTWFpbGZsb3d8eyJWIjoiMC4wLjAwMDAiLCJQIjoiV2luMzIiLCJBTiI6Ik1haWwiLCJXVCI6Mn0%3D%7C3000%7C%7C%7C&sdata=4NDEEwZaj8RIzXe27q18V3C7q0OTTpLOx3%2B%2BNJ%2BOhuI%3D&reserved=0> \r\n",
      "\r\n",
      " \r\n",
      "\r\n",
      "     <https://ind01.safelinks.protection.outlook.com/?url=https%3A%2F%2Fwww.linkedin.com%2Fcompany%2Fmouritech%2F%3FviewAsMember%3Dtrue&data=05%7C01%7Ckarthikmu.in%40mouritech.com%7Cffa74a18cf1b4eed350b08db189503fe%7C2b6c600fb6cb4329af3b1b32c62c440f%7C0%7C0%7C638130800576836555%7CUnknown%7CTWFpbGZsb3d8eyJWIjoiMC4wLjAwMDAiLCJQIjoiV2luMzIiLCJBTiI6Ik1haWwiLCJXVCI6Mn0%3D%7C3000%7C%7C%7C&sdata=WtwGjxL7OSB6PqYTIhji4u4xjyg%2FkACkQ5wBCTpQ%2Fgs%3D&reserved=0>   <https://ind01.safelinks.protection.outlook.com/?url=https%3A%2F%2Fwww.facebook.com%2Fmouritech%2F&data=05%7C01%7Ckarthikmu.in%40mouritech.com%7Cffa74a18cf1b4eed350b08db189503fe%7C2b6c600fb6cb4329af3b1b32c62c440f%7C0%7C0%7C638130800576836555%7CUnknown%7CTWFpbGZsb3d8eyJWIjoiMC4wLjAwMDAiLCJQIjoiV2luMzIiLCJBTiI6Ik1haWwiLCJXVCI6Mn0%3D%7C3000%7C%7C%7C&sdata=ENoc1Lu8uTSUZiCkzgXrl%2FoNDC2KHjtBvl0DfE5H9io%3D&reserved=0>   <https://ind01.safelinks.protection.outlook.com/?url=https%3A%2F%2Fwww.youtube.com%2Fchannel%2FUCQhic3pPTQt1BNEWsrJ4Z6g&data=05%7C01%7Ckarthikmu.in%40mouritech.com%7Cffa74a18cf1b4eed350b08db189503fe%7C2b6c600fb6cb4329af3b1b32c62c440f%7C0%7C0%7C638130800576836555%7CUnknown%7CTWFpbGZsb3d8eyJWIjoiMC4wLjAwMDAiLCJQIjoiV2luMzIiLCJBTiI6Ik1haWwiLCJXVCI6Mn0%3D%7C3000%7C%7C%7C&sdata=lXArjKWRsB%2BQLR94mhAebRLrF1ALYHQswA7HqGl3Ksg%3D&reserved=0>   <https://ind01.safelinks.protection.outlook.com/?url=https%3A%2F%2Ftwitter.com%2Fmouritech&data=05%7C01%7Ckarthikmu.in%40mouritech.com%7Cffa74a18cf1b4eed350b08db189503fe%7C2b6c600fb6cb4329af3b1b32c62c440f%7C0%7C0%7C638130800576836555%7CUnknown%7CTWFpbGZsb3d8eyJWIjoiMC4wLjAwMDAiLCJQIjoiV2luMzIiLCJBTiI6Ik1haWwiLCJXVCI6Mn0%3D%7C3000%7C%7C%7C&sdata=oDZD26Kdu2L20DM1HzWRtr0tGNhhU36R24PFg9KcBMQ%3D&reserved=0> \r\n",
      "\r\n",
      " \r\n",
      "\r\n",
      "“This message contains information that is confidential, privileged or subject to legal restrictions and penalties regarding its unauthorized disclosure and use. If you are not an intended recipient, please refrain from any review, disclosure, copying, distribution or use of this information and note that such actions are prohibited.  If you received this transmission in error, please notify the sender immediately by reply e-mail and delete this message”.\r\n",
      "\r\n",
      " \r\n",
      "\r\n",
      " \r\n",
      "\n"
     ]
    }
   ],
   "source": [
    "import win32com.client\n",
    "\n",
    "outlook = win32com.client.Dispatch(\"Outlook.Application\").GetNamespace(\"MAPI\")\n",
    "\n",
    "inbox = outlook.GetDefaultFolder(6) # \"6\" refers to the index of a folder - in this case,\n",
    "                                    # the inbox. You can change that number to reference\n",
    "                                    # any other folder\n",
    "messages = inbox.Items\n",
    "message = messages.GetLast()\n",
    "body_content = message.body\n",
    "print(body_content)"
   ]
  },
  {
   "cell_type": "code",
   "execution_count": 23,
   "id": "bbfe495c",
   "metadata": {},
   "outputs": [],
   "source": [
    "def emailleri_al(folder):    \n",
    "    messages = folder.Items    \n",
    "    a=len(messages)    \n",
    "    if a>0:        \n",
    "        for message2 in messages:             \n",
    "            try:                \n",
    "                sender = message2.SenderEmailAddress                \n",
    "                \n",
    "                if sender != \"\":                    \n",
    "                    print(sender, file=f)             \n",
    "            except:                \n",
    "                print(\"Ben hatayım\")                \n",
    "                print(account.DeliveryStore.DisplayName)                \n",
    "                pass             \n",
    "            try:                \n",
    "                message2.Save                \n",
    "                message2.Close(0)             \n",
    "            except:                \n",
    "                pass"
   ]
  },
  {
   "cell_type": "code",
   "execution_count": 27,
   "id": "87df0482",
   "metadata": {},
   "outputs": [
    {
     "ename": "SyntaxError",
     "evalue": "name 'inbox' is used prior to global declaration (617450289.py, line 2)",
     "output_type": "error",
     "traceback": [
      "\u001b[1;36m  File \u001b[1;32m\"C:\\Users\\karthikmu\\AppData\\Local\\Temp\\ipykernel_18832\\617450289.py\"\u001b[1;36m, line \u001b[1;32m2\u001b[0m\n\u001b[1;33m    global inbox\u001b[0m\n\u001b[1;37m    ^\u001b[0m\n\u001b[1;31mSyntaxError\u001b[0m\u001b[1;31m:\u001b[0m name 'inbox' is used prior to global declaration\n"
     ]
    }
   ],
   "source": [
    "for account in inbox:    \n",
    "    global inbox    \n",
    "    inbox = outlook.Folders(account.DeliveryStore.DisplayName)    \n",
    "    print(\"****Account Name**********************************\",file=f)    \n",
    "    print(account.DisplayName,file=f)   \n",
    "    print(account.DisplayName)    \n",
    "    print(\"***************************************************\",file=f)    \n",
    "    folders = inbox.Folders    \n",
    "    \n",
    "    for folder in inbox:        \n",
    "        print(\"****Folder Name**********************************\", file=f)       \n",
    "        print(folder, file=f)       \n",
    "        print(\"*************************************************\", file=f)        \n",
    "        emailleri_al(folder)        \n",
    "        a = len(folder.folders)       \n",
    "        if a>0 :            \n",
    "            global z            \n",
    "            z = outlook.Folders(account.DeliveryStore.DisplayName).Folders(folder.name)           \n",
    "            x = z.Folders            \n",
    "            for y in x:               \n",
    "                emailleri_al(y)                \n",
    "                print(\"****Folder Name**********************************\", file=f)               \n",
    "                print(\"...\"+y.name,file=f)                \n",
    "                print(\"*************************************************\", file=f)"
   ]
  },
  {
   "cell_type": "code",
   "execution_count": null,
   "id": "3763ce99",
   "metadata": {},
   "outputs": [],
   "source": []
  }
 ],
 "metadata": {
  "kernelspec": {
   "display_name": "Python 3 (ipykernel)",
   "language": "python",
   "name": "python3"
  },
  "language_info": {
   "codemirror_mode": {
    "name": "ipython",
    "version": 3
   },
   "file_extension": ".py",
   "mimetype": "text/x-python",
   "name": "python",
   "nbconvert_exporter": "python",
   "pygments_lexer": "ipython3",
   "version": "3.9.13"
  }
 },
 "nbformat": 4,
 "nbformat_minor": 5
}
